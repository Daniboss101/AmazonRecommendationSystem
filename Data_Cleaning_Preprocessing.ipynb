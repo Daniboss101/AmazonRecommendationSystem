{
 "cells": [
  {
   "cell_type": "code",
   "id": "initial_id",
   "metadata": {
    "collapsed": true,
    "ExecuteTime": {
     "end_time": "2025-09-22T21:26:40.467799Z",
     "start_time": "2025-09-22T21:26:40.346053Z"
    }
   },
   "source": [
    "import pandas as pd \n",
    "import psycopg2\n",
    "from dotenv import load_dotenv\n",
    "load_dotenv()\n",
    "import os\n",
    "\n",
    "DB_NAME = os.getenv(\"DBNAME\")\n",
    "DB_USER = os.getenv(\"DB_USER\")\n",
    "DB_PASSWORD = os.getenv(\"DB_PASSWORD\")\n",
    "DB_HOST = os.getenv(\"DB_HOST\")\n",
    "DB_PORT = os.getenv(\"DB_PORT\")"
   ],
   "outputs": [],
   "execution_count": 1
  },
  {
   "metadata": {
    "ExecuteTime": {
     "end_time": "2025-09-22T21:26:40.474809Z",
     "start_time": "2025-09-22T21:26:40.468811Z"
    }
   },
   "cell_type": "code",
   "source": [
    "def connect_to_db(query):\n",
    "    try: \n",
    "        print(\"Connecting to PostgreSQL database...\")\n",
    "        connection = psycopg2.connect(\n",
    "            dbname=DB_NAME,\n",
    "            user=DB_USER, \n",
    "            password=DB_PASSWORD, \n",
    "            host=DB_HOST, \n",
    "            port=DB_PORT\n",
    "        )\n",
    "        cursor = connection.cursor()\n",
    "        print(\"PostgreSQL database successfully connected.\")\n",
    "        print(f\"Executing query: {query}\")\n",
    "        cursor.execute(query)\n",
    "        data = cursor.fetchall()\n",
    "        columns = [desc[0] for desc in cursor.description]\n",
    "        print(f\"Columns: {columns}\")\n",
    "        df = pd.DataFrame(data, columns=columns)\n",
    "        print(f\"Dataframe shape: {df.shape}\")\n",
    "        connection.close()\n",
    "        return df\n",
    "    except (Exception, psycopg2.DatabaseError) as error:\n",
    "        print(f\"Error connecting to Postgres database\", error)"
   ],
   "id": "9a432d94cd514238",
   "outputs": [],
   "execution_count": 2
  },
  {
   "metadata": {
    "ExecuteTime": {
     "end_time": "2025-09-22T21:29:00.421234Z",
     "start_time": "2025-09-22T21:26:43.246755Z"
    }
   },
   "cell_type": "code",
   "source": [
    "review_df = connect_to_db(\"SELECT * FROM review_data\")\n",
    "meta_df = connect_to_db(\"SELECT * FROM meta_data\")\n",
    "\n"
   ],
   "id": "9b29cf282c43eaa",
   "outputs": [
    {
     "name": "stdout",
     "output_type": "stream",
     "text": [
      "Connecting to PostgreSQL database...\n",
      "PostgreSQL database successfully connected.\n",
      "Executing query: SELECT * FROM review_data\n",
      "Columns: ['rating', 'title', 'review_text', 'images', 'asin', 'parent_asin', 'user_id', 'review_timestamp', 'verified_purchase', 'helpful_vote', 'filename']\n",
      "Dataframe shape: (2647447, 11)\n",
      "Connecting to PostgreSQL database...\n",
      "PostgreSQL database successfully connected.\n",
      "Executing query: SELECT * FROM meta_data\n",
      "Columns: ['id', 'filename', 'main_category', 'title', 'average_rating', 'rating_number', 'features', 'description', 'price', 'images', 'videos', 'store', 'categories', 'details', 'parent_asin', 'bought_together', 'created_at']\n",
      "Dataframe shape: (1300847, 17)\n"
     ]
    }
   ],
   "execution_count": 3
  },
  {
   "metadata": {
    "ExecuteTime": {
     "end_time": "2025-09-19T18:05:25.942987Z",
     "start_time": "2025-09-19T18:05:23.476699Z"
    }
   },
   "cell_type": "code",
   "source": "meta_df.isna().sum()",
   "id": "951eda5213b77512",
   "outputs": [
    {
     "data": {
      "text/plain": [
       "id                 0\n",
       "filename           0\n",
       "main_category      0\n",
       "title              0\n",
       "average_rating     0\n",
       "rating_number      0\n",
       "features           0\n",
       "description        0\n",
       "price              0\n",
       "images             0\n",
       "videos             0\n",
       "store              0\n",
       "categories         0\n",
       "details            0\n",
       "parent_asin        0\n",
       "bought_together    0\n",
       "created_at         0\n",
       "dtype: int64"
      ]
     },
     "execution_count": 4,
     "metadata": {},
     "output_type": "execute_result"
    }
   ],
   "execution_count": 4
  },
  {
   "metadata": {
    "ExecuteTime": {
     "end_time": "2025-09-22T21:30:55.217023Z",
     "start_time": "2025-09-22T21:29:20.372783Z"
    }
   },
   "cell_type": "code",
   "source": [
    "df = pd.merge(review_df, meta_df, \n",
    "              how='left', \n",
    "              suffixes=['_review', '_meta'], \n",
    "              left_on=['parent_asin', 'filename'], \n",
    "              right_on=['parent_asin', 'filename'])"
   ],
   "id": "2d7f64ef666e2a6b",
   "outputs": [],
   "execution_count": 4
  },
  {
   "metadata": {
    "ExecuteTime": {
     "end_time": "2025-09-19T20:51:43.880609Z",
     "start_time": "2025-09-19T20:51:15.311116Z"
    }
   },
   "cell_type": "code",
   "source": [
    "print(f'Number of Null Values: \\n{df.isna().sum()}')\n",
    "print(f'Number of Duplicate Values: {df.duplicated().sum()}')"
   ],
   "id": "edb87f0f0d3bf612",
   "outputs": [
    {
     "name": "stdout",
     "output_type": "stream",
     "text": [
      "Number of Null Values: \n",
      "rating                    0\n",
      "title_review              0\n",
      "review_text               0\n",
      "images_review             0\n",
      "asin                      0\n",
      "parent_asin               0\n",
      "user_id                   0\n",
      "review_timestamp          0\n",
      "verified_purchase         0\n",
      "helpful_vote              0\n",
      "filename                  0\n",
      "id                   157836\n",
      "main_category        157836\n",
      "title_meta           157836\n",
      "average_rating       157836\n",
      "rating_number        157836\n",
      "features             157836\n",
      "description          157836\n",
      "price                157836\n",
      "images_meta          157836\n",
      "videos               157836\n",
      "store                157836\n",
      "categories           157836\n",
      "details              157836\n",
      "bought_together      157836\n",
      "created_at           157836\n",
      "dtype: int64\n",
      "Number of Duplicate Values: 6459\n"
     ]
    }
   ],
   "execution_count": 49
  },
  {
   "metadata": {
    "ExecuteTime": {
     "end_time": "2025-09-22T21:39:06.847071Z",
     "start_time": "2025-09-22T21:32:12.997750Z"
    }
   },
   "cell_type": "code",
   "source": [
    "print(\"Complete duplicate rows:\", df.duplicated().sum())\n",
    "\n",
    "print(\"Duplicates on (user_id, parent_asin):\", df.duplicated(subset=['user_id', 'parent_asin']).sum())\n",
    "\n",
    "duplicates = df[df.duplicated(keep=False)]\n",
    "print(f\"Sample duplicates:\\n{duplicates[['user_id', 'parent_asin', 'rating', 'title_review']].head(10)}\")"
   ],
   "id": "83401bc63229ff17",
   "outputs": [
    {
     "name": "stdout",
     "output_type": "stream",
     "text": [
      "Complete duplicate rows: 6459\n",
      "Duplicates on (user_id, parent_asin): 20494\n",
      "Sample duplicates:\n",
      "                           user_id parent_asin  rating  \\\n",
      "3723  AHLDHIVNLWLVRDISEB76TEMLOG2Q  B00WDKPW9O     5.0   \n",
      "3724  AHLDHIVNLWLVRDISEB76TEMLOG2Q  B07VQZPHHF     5.0   \n",
      "3725  AHLDHIVNLWLVRDISEB76TEMLOG2Q  B00WDKPW9O     5.0   \n",
      "3726  AHLDHIVNLWLVRDISEB76TEMLOG2Q  B07VQZPHHF     5.0   \n",
      "3875  AEKMLJQPUBHCKDDHKVC74DYKON6Q  B09NBJJCM6     5.0   \n",
      "3876  AEKMLJQPUBHCKDDHKVC74DYKON6Q  B09NBJJCM6     5.0   \n",
      "4338  AEKDWV2NZYGECRICKDZ2ANLSKUAA  B0B8Q3WTGP     4.0   \n",
      "4342  AEKDWV2NZYGECRICKDZ2ANLSKUAA  B0B8Q3WTGP     4.0   \n",
      "4499  AG2XZ2N3OGKGELCALULKCA43EY4Q  B083XH4FYP     5.0   \n",
      "4503  AG2XZ2N3OGKGELCALULKCA43EY4Q  B083XH4FYP     5.0   \n",
      "\n",
      "                                        title_review  \n",
      "3723                           Moisturizing  ur skin  \n",
      "3724                           Useful For Showering.  \n",
      "3725                           Moisturizing  ur skin  \n",
      "3726                           Useful For Showering.  \n",
      "3875                                     JUST WOW!!!  \n",
      "3876                                     JUST WOW!!!  \n",
      "4338                                Good round brush  \n",
      "4342                                Good round brush  \n",
      "4499  More than enough hair and extremely affordable  \n",
      "4503  More than enough hair and extremely affordable  \n"
     ]
    }
   ],
   "execution_count": 5
  },
  {
   "metadata": {
    "ExecuteTime": {
     "end_time": "2025-09-22T21:41:42.514529Z",
     "start_time": "2025-09-22T21:40:59.243470Z"
    }
   },
   "cell_type": "code",
   "source": [
    "df = df.drop_duplicates()\n",
    "\n",
    "remaining_user_product_dupes = df.duplicated(subset=['user_id', 'parent_asin']).sum()\n",
    "print(f\"After removing exact duplicates: {remaining_user_product_dupes} user-product duplicates remain\")\n",
    "\n",
    "\n",
    "if remaining_user_product_dupes > 0:\n",
    "    dupes = df[df.duplicated(subset=['user_id', 'parent_asin'], keep=False)]\n",
    "    dupes['date_time'] = pd.to_datetime(dupes['review_timestamp'], unit='ms')\n",
    "    print(\"Sample remaining duplicates:\")\n",
    "    print(dupes[['user_id', 'parent_asin', 'date_time', 'rating', 'title_review']].head(10))"
   ],
   "id": "8bae50c5d0f7eea",
   "outputs": [
    {
     "name": "stdout",
     "output_type": "stream",
     "text": [
      "After removing exact duplicates: 14035 user-product duplicates remain\n",
      "Sample remaining duplicates:\n",
      "                          user_id parent_asin               date_time  rating  \\\n",
      "70   AHV6QCNBJNSGLATP56JAWJ3C4G2A  B0B2L218H2 2020-11-20 15:25:19.061     4.0   \n",
      "71   AHV6QCNBJNSGLATP56JAWJ3C4G2A  B0B2L218H2 2020-11-19 19:33:29.168     4.0   \n",
      "190  AFXF3EGQTQDXMRLDWFU7UBFQZB7Q  B08HGZXLP6 2021-01-23 00:07:32.090     5.0   \n",
      "193  AFXF3EGQTQDXMRLDWFU7UBFQZB7Q  B08HGZXLP6 2021-01-20 00:34:13.719     5.0   \n",
      "198  AFQQQ5LGNSQUEBGDCYBAZZE5T3DA  B08WCG4JCC 2020-09-14 21:57:49.811     5.0   \n",
      "253  AFQQQ5LGNSQUEBGDCYBAZZE5T3DA  B08WCG4JCC 2020-09-09 16:50:55.886     5.0   \n",
      "435  AHU2GG5RF6YAEWUFNLH3QH5RHDNQ  B01DD1NOZU 2021-11-26 18:52:21.170     5.0   \n",
      "436  AHU2GG5RF6YAEWUFNLH3QH5RHDNQ  B01DD1NOZU 2021-11-26 18:38:38.416     5.0   \n",
      "760  AEZP6Z2C5AVQDZAJECQYZWQRNG3Q  B08YJV9YL2 2020-11-11 18:04:54.655     4.0   \n",
      "766  AEZP6Z2C5AVQDZAJECQYZWQRNG3Q  B08YJV9YL2 2020-11-01 15:13:41.231     4.0   \n",
      "\n",
      "                                          title_review  \n",
      "70                                   Great for Travel!  \n",
      "71                      Fun Way to Try Out a New Scent  \n",
      "190  Excellent empty glass bottle set perfect for h...  \n",
      "193  Excellent empty glass bottle set perfect for h...  \n",
      "198                                        Balanced PH  \n",
      "253                                   Non-Greasy Shine  \n",
      "435                                  Excellent product  \n",
      "436                                            Love it  \n",
      "760                                Very nice body wash  \n",
      "766                       Very nice, perfect as a gift  \n"
     ]
    },
    {
     "name": "stderr",
     "output_type": "stream",
     "text": [
      "C:\\Users\\danib\\AppData\\Local\\Temp\\ipykernel_9064\\163561704.py:9: SettingWithCopyWarning: \n",
      "A value is trying to be set on a copy of a slice from a DataFrame.\n",
      "Try using .loc[row_indexer,col_indexer] = value instead\n",
      "\n",
      "See the caveats in the documentation: https://pandas.pydata.org/pandas-docs/stable/user_guide/indexing.html#returning-a-view-versus-a-copy\n",
      "  dupes['date_time'] = pd.to_datetime(dupes['review_timestamp'], unit='ms')\n"
     ]
    }
   ],
   "execution_count": 6
  },
  {
   "metadata": {
    "ExecuteTime": {
     "end_time": "2025-09-22T21:44:09.193397Z",
     "start_time": "2025-09-22T21:43:35.226095Z"
    }
   },
   "cell_type": "code",
   "source": [
    "df = df.dropna(subset=['main_category'])\n",
    "print(df.isna().sum())"
   ],
   "id": "d8c7803b944706f4",
   "outputs": [
    {
     "name": "stdout",
     "output_type": "stream",
     "text": [
      "rating               0\n",
      "title_review         0\n",
      "review_text          0\n",
      "images_review        0\n",
      "asin                 0\n",
      "parent_asin          0\n",
      "user_id              0\n",
      "review_timestamp     0\n",
      "verified_purchase    0\n",
      "helpful_vote         0\n",
      "filename             0\n",
      "id                   0\n",
      "main_category        0\n",
      "title_meta           0\n",
      "average_rating       0\n",
      "rating_number        0\n",
      "features             0\n",
      "description          0\n",
      "price                0\n",
      "images_meta          0\n",
      "videos               0\n",
      "store                0\n",
      "categories           0\n",
      "details              0\n",
      "bought_together      0\n",
      "created_at           0\n",
      "dtype: int64\n"
     ]
    }
   ],
   "execution_count": 7
  },
  {
   "metadata": {},
   "cell_type": "markdown",
   "source": "# **Data Cleaning**",
   "id": "86fd2d4efc0c034d"
  },
  {
   "metadata": {
    "ExecuteTime": {
     "end_time": "2025-09-22T21:44:51.674640Z",
     "start_time": "2025-09-22T21:44:51.622157Z"
    }
   },
   "cell_type": "code",
   "source": "df.columns",
   "id": "4c1f1cf3a71a30c4",
   "outputs": [
    {
     "data": {
      "text/plain": [
       "Index(['rating', 'title_review', 'review_text', 'images_review', 'asin',\n",
       "       'parent_asin', 'user_id', 'review_timestamp', 'verified_purchase',\n",
       "       'helpful_vote', 'filename', 'id', 'main_category', 'title_meta',\n",
       "       'average_rating', 'rating_number', 'features', 'description', 'price',\n",
       "       'images_meta', 'videos', 'store', 'categories', 'details',\n",
       "       'bought_together', 'created_at'],\n",
       "      dtype='object')"
      ]
     },
     "execution_count": 8,
     "metadata": {},
     "output_type": "execute_result"
    }
   ],
   "execution_count": 8
  },
  {
   "metadata": {
    "ExecuteTime": {
     "end_time": "2025-09-22T21:45:27.675376Z",
     "start_time": "2025-09-22T21:45:23.829211Z"
    }
   },
   "cell_type": "code",
   "source": [
    "df['review_date'] = pd.to_datetime(df['review_timestamp'], unit='ms')\n",
    "df['review_year'] = df['review_date'].dt.year\n",
    "\n",
    "df['review_text'] = df['review_text'].fillna('').astype(str)\n",
    "df['title_review'] = df['title_review'].fillna('').astype(str)\n",
    "print(f\"The dates range from {df['review_date'].min()} to {df['review_date'].max()}\")"
   ],
   "id": "e81df26719af1d5f",
   "outputs": [
    {
     "name": "stdout",
     "output_type": "stream",
     "text": [
      "The dates range from 2020-01-01 08:00:00.770000 to 2023-09-06 22:41:39.945000\n"
     ]
    }
   ],
   "execution_count": 9
  },
  {
   "metadata": {
    "ExecuteTime": {
     "end_time": "2025-09-22T21:46:41.204878Z",
     "start_time": "2025-09-22T21:45:42.421278Z"
    }
   },
   "cell_type": "code",
   "source": [
    "df['rating'] = df['rating'].astype(float)\n",
    "df['average_rating'] = pd.to_numeric(df['average_rating'], errors='coerce')\n",
    "df['price'] = pd.to_numeric(df['price'], errors='coerce') \n",
    "\n",
    "df['helpful_vote'] = df['helpful_vote'].astype(int)\n",
    "df['rating_number'] = pd.to_numeric(df['rating_number'], errors='coerce').astype('Int64')  \n",
    "df['id'] = df['id'].astype('Int64')  \n",
    "\n",
    "\n",
    "df['verified_purchase'] = df['verified_purchase'].astype(bool)\n",
    "\n",
    "mask = (df['main_category'] == '') | (df['main_category'].isnull())\n",
    "\n",
    "for filename in df.loc[mask, 'filename'].unique():\n",
    "    valid_categories = df[\n",
    "        (df['filename'] == filename) & \n",
    "        (df['main_category'] != '') & \n",
    "        (df['main_category'].notna())\n",
    "    ]['main_category'].unique()\n",
    "    \n",
    "    if len(valid_categories) > 0:\n",
    "        correct_category = df[\n",
    "            (df['filename'] == filename) & \n",
    "            (df['main_category'] != '') & \n",
    "            (df['main_category'].notna())\n",
    "        ]['main_category'].mode().iloc[0]\n",
    "        \n",
    "        df.loc[\n",
    "            (df['filename'] == filename) & \n",
    "            ((df['main_category'] == '') | (df['main_category'].isnull())),\n",
    "            'main_category'\n",
    "        ] = correct_category\n",
    "        \n",
    "        print(f\"Fixed {filename}: {correct_category}\")\n",
    "    else:\n",
    "        print(f\"Warning: No valid main_category found for {filename}\")"
   ],
   "id": "653ba5b1e1b5f39",
   "outputs": [
    {
     "name": "stdout",
     "output_type": "stream",
     "text": [
      "Fixed Automotive.jsonl: Automotive\n",
      "Fixed Appliances.jsonl: Tools & Home Improvement\n",
      "Fixed Movies_and_TV.jsonl: Prime Video\n",
      "Fixed Arts_Crafts_and_Sewing.jsonl: Arts, Crafts & Sewing\n",
      "Fixed Baby_Products.jsonl: Baby\n",
      "Fixed Beauty_and_Personal_Care.jsonl: All Beauty\n",
      "Fixed Books.jsonl: Books\n",
      "Fixed CDs_and_Vinyl.jsonl: Digital Music\n",
      "Fixed Cell_Phones_and_Accessories.jsonl: Cell Phones & Accessories\n",
      "Fixed Gift_Cards.jsonl: Gift Cards\n",
      "Fixed Clothing_Shoes_and_Jewelry.jsonl: AMAZON FASHION\n",
      "Fixed Electronics.jsonl: All Electronics\n",
      "Fixed Grocery_and_Gourmet_Food.jsonl: Grocery\n",
      "Fixed Health_and_Household.jsonl: Health & Personal Care\n",
      "Fixed Handmade_Products.jsonl: Handmade\n",
      "Fixed Home_and_Kitchen.jsonl: Amazon Home\n",
      "Fixed Kindle_Store.jsonl: Buy a Kindle\n",
      "Fixed Industrial_and_Scientific.jsonl: Industrial & Scientific\n",
      "Fixed Musical_Instruments.jsonl: Musical Instruments\n",
      "Fixed Office_Products.jsonl: Office Products\n",
      "Fixed Patio_Lawn_and_Garden.jsonl: Amazon Home\n",
      "Fixed Pet_Supplies.jsonl: Pet Supplies\n",
      "Fixed Software.jsonl: Appstore for Android\n",
      "Fixed Sports_and_Outdoors.jsonl: Sports & Outdoors\n",
      "Warning: No valid main_category found for Unknown.jsonl\n",
      "Fixed Tools_and_Home_Improvement.jsonl: Tools & Home Improvement\n",
      "Fixed Toys_and_Games.jsonl: Toys & Games\n",
      "Fixed Video_Games.jsonl: Video Games\n"
     ]
    }
   ],
   "execution_count": 10
  },
  {
   "metadata": {},
   "cell_type": "markdown",
   "source": "# **Data Inspection**",
   "id": "8d281030a3fe9a59"
  },
  {
   "metadata": {
    "ExecuteTime": {
     "end_time": "2025-09-22T21:47:02.609036Z",
     "start_time": "2025-09-22T21:46:59.658060Z"
    }
   },
   "cell_type": "code",
   "source": [
    "print(f\"Number of rows: {df.shape[0]:,}\")\n",
    "print(f\"Number of unique users: {len(df['user_id'].unique()):,}\")\n",
    "print(f\"Number of unique products: {len(df['parent_asin'].unique()):,}\")\n",
    "print(f\"Number of unique categories: {len(df['main_category'].unique()) if 'main_category' in df.columns else 'N/A'}\")\n",
    "print(f\"Price coverage: {(df['price'].notna().sum() / len(df) * 100):.1f}%\")\n",
    "print(f\"Avg rating: {df['rating'].mean():.2f}\")\n",
    "\n",
    "total_purchases_per_user = df.groupby('user_id')['parent_asin'].count()\n",
    "avg_total_purchases = total_purchases_per_user.mean()\n",
    "print(f\"Average total purchases per user: {avg_total_purchases:.2f}\")\n",
    "print(\"-\" * 50)  "
   ],
   "id": "e98c186a2fdc18c8",
   "outputs": [
    {
     "name": "stdout",
     "output_type": "stream",
     "text": [
      "Number of rows: 2,483,400\n",
      "Number of unique users: 316,045\n",
      "Number of unique products: 1,300,847\n",
      "Number of unique categories: 48\n",
      "Price coverage: 72.8%\n",
      "Avg rating: 4.32\n",
      "Average total purchases per user: 7.86\n",
      "--------------------------------------------------\n"
     ]
    }
   ],
   "execution_count": 11
  },
  {
   "metadata": {
    "ExecuteTime": {
     "end_time": "2025-09-22T21:47:08.275729Z",
     "start_time": "2025-09-22T21:47:07.917107Z"
    }
   },
   "cell_type": "code",
   "source": "sorted(df['main_category'].unique())",
   "id": "8874ee438e8bb777",
   "outputs": [
    {
     "data": {
      "text/plain": [
       "['',\n",
       " 'AMAZON FASHION',\n",
       " 'All Beauty',\n",
       " 'All Electronics',\n",
       " 'Amazon Devices',\n",
       " 'Amazon Fire TV',\n",
       " 'Amazon Home',\n",
       " 'Apple Products',\n",
       " 'Appliances',\n",
       " 'Appstore for Android',\n",
       " 'Arts, Crafts & Sewing',\n",
       " 'Audible Audiobooks',\n",
       " 'Automotive',\n",
       " 'Baby',\n",
       " 'Books',\n",
       " 'Buy a Kindle',\n",
       " 'Camera & Photo',\n",
       " 'Car Electronics',\n",
       " 'Cell Phones & Accessories',\n",
       " 'Collectible Coins',\n",
       " 'Collectibles & Fine Art',\n",
       " 'Computers',\n",
       " 'Digital Music',\n",
       " 'Entertainment',\n",
       " 'Fine Art',\n",
       " 'Fire Phone',\n",
       " 'GPS & Navigation',\n",
       " 'Gift Cards',\n",
       " 'Grocery',\n",
       " 'Handmade',\n",
       " 'Health & Personal Care',\n",
       " 'Home Audio & Theater',\n",
       " 'Industrial & Scientific',\n",
       " 'Magazine Subscriptions',\n",
       " 'Movies & TV',\n",
       " 'Musical Instruments',\n",
       " 'Office Products',\n",
       " 'Pet Supplies',\n",
       " 'Portable Audio & Accessories',\n",
       " 'Premium Beauty',\n",
       " 'Prime Video',\n",
       " 'SUBSCRIPTION BOXES',\n",
       " 'Software',\n",
       " 'Sports & Outdoors',\n",
       " 'Sports Collectibles',\n",
       " 'Tools & Home Improvement',\n",
       " 'Toys & Games',\n",
       " 'Video Games']"
      ]
     },
     "execution_count": 12,
     "metadata": {},
     "output_type": "execute_result"
    }
   ],
   "execution_count": 12
  },
  {
   "metadata": {},
   "cell_type": "markdown",
   "source": "# **Recommendation System Suitability**",
   "id": "ef65f732ec9ed9a5"
  },
  {
   "metadata": {
    "ExecuteTime": {
     "end_time": "2025-09-22T21:49:37.637757Z",
     "start_time": "2025-09-22T21:49:37.631630Z"
    }
   },
   "cell_type": "code",
   "source": [
    "def assess_rec_sys_readiness(data): \n",
    "    n_users = data['user_id'].nunique()\n",
    "    n_items = data['parent_asin'].nunique()\n",
    "    n_interactions = len(data)\n",
    "    sparsity = (1-(n_interactions/(n_users*n_items))) * 100\n",
    "    \n",
    "    print(f\"Number of users: {n_users:,}\")\n",
    "    print(f\"Number of items: {n_items:,}\")\n",
    "    print(f\"Number of interactions: {n_interactions:,}\")\n",
    "    print(f\"Sparsity: {sparsity:.2f}%\")\n",
    "    \n",
    "    user_count = data['user_id'].value_counts()\n",
    "    item_count = data['parent_asin'].value_counts()\n",
    "    \n",
    "    print(f\" Users with 1 review: {(user_count==1).sum():,} ({(user_count==1).sum()/n_users*100:.1f}%)\")\n",
    "    print(f\"  Items with 1 review: {(item_count == 1).sum():,} ({(item_count == 1).sum()/n_items*100:.1f}%)\")\n",
    "    print(f\"  Users with 5+ reviews: {(user_count >= 5).sum():,}\")\n",
    "    print(f\"  Items with 5+ reviews: {(item_count >= 5).sum():,}\")\n",
    "    \n",
    "    \n",
    "    if sparsity > 99.5: \n",
    "        print(\"Very sparse - Consider content based + hybrid approaches\")\n",
    "    elif sparsity > 99:\n",
    "        print(\"Moderately sparse - Hybrid approach recommended\")  \n",
    "    else:\n",
    "        print(\"Good density - Collaborative filtering viable\")\n",
    "        "
   ],
   "id": "b94c24a7b02260cd",
   "outputs": [],
   "execution_count": 17
  },
  {
   "metadata": {
    "ExecuteTime": {
     "end_time": "2025-09-22T21:49:44.757316Z",
     "start_time": "2025-09-22T21:49:42.246139Z"
    }
   },
   "cell_type": "code",
   "source": "assess_rec_sys_readiness(df)",
   "id": "e11aafe8d3157ebc",
   "outputs": [
    {
     "name": "stdout",
     "output_type": "stream",
     "text": [
      "Number of users: 316,045\n",
      "Number of items: 1,300,847\n",
      "Number of interactions: 2,483,400\n",
      "Sparsity: 100.00%\n",
      " Users with 1 review: 178,719 (56.5%)\n",
      "  Items with 1 review: 934,967 (71.9%)\n",
      "  Users with 5+ reviews: 73,206\n",
      "  Items with 5+ reviews: 71,614\n",
      "Very sparse - Consider content based + hybrid approaches\n"
     ]
    }
   ],
   "execution_count": 18
  },
  {
   "metadata": {},
   "cell_type": "code",
   "outputs": [],
   "execution_count": null,
   "source": [
    "print(f\"Saving to Parquet...\")\n",
    "df.to_parquet(\"amazon_df.parquet\", index=False)\n",
    "print(f\"Done!\")"
   ],
   "id": "d9084710aad0f0c9"
  }
 ],
 "metadata": {
  "kernelspec": {
   "display_name": "Python 3",
   "language": "python",
   "name": "python3"
  },
  "language_info": {
   "codemirror_mode": {
    "name": "ipython",
    "version": 2
   },
   "file_extension": ".py",
   "mimetype": "text/x-python",
   "name": "python",
   "nbconvert_exporter": "python",
   "pygments_lexer": "ipython2",
   "version": "2.7.6"
  }
 },
 "nbformat": 4,
 "nbformat_minor": 5
}
